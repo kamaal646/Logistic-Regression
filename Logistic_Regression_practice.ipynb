{
 "cells": [
  {
   "cell_type": "code",
   "execution_count": 1,
   "id": "5370d204",
   "metadata": {},
   "outputs": [],
   "source": [
    "import pandas as pd\n",
    "import numpy as np\n",
    "import matplotlib.pyplot as plt\n",
    "import seaborn as sns"
   ]
  },
  {
   "cell_type": "code",
   "execution_count": 2,
   "id": "1ebf251d",
   "metadata": {},
   "outputs": [],
   "source": [
    "# import online data\n",
    "\n",
    "from sklearn.datasets import load_digits\n",
    "\n",
    "digits = load_digits()"
   ]
  },
  {
   "cell_type": "code",
   "execution_count": 3,
   "id": "3d3288a9",
   "metadata": {},
   "outputs": [],
   "source": [
    "# input variables or features (X)\n",
    "\n",
    "digits.data.shape   # means 1797 pictures, size 64 = 8*8\n",
    "X = digits.data"
   ]
  },
  {
   "cell_type": "code",
   "execution_count": 4,
   "id": "f52d709d",
   "metadata": {},
   "outputs": [],
   "source": [
    "# output lables (y)\n",
    "\n",
    "digits.target.shape\n",
    "y = digits.target"
   ]
  },
  {
   "cell_type": "code",
   "execution_count": 5,
   "id": "1a2f8969",
   "metadata": {},
   "outputs": [
    {
     "data": {
      "image/png": "[encoded data removed]",
      "text/plain": [
       "<Figure size 1440x288 with 5 Axes>"
      ]
     },
     "metadata": {
      "needs_background": "light"
     },
     "output_type": "display_data"
    }
   ],
   "source": [
    "plt.figure(figsize=(20,4))\n",
    "for index, (image, label) in enumerate(zip(digits.data[0:5], digits.target[0:5])):\n",
    "    plt.subplot(1, 5, index + 1)\n",
    "    plt.imshow(np.reshape(image, (8,8)), cmap=plt.cm.gray)\n",
    "    plt.title('Training: %i\\n' % label, fontsize=20)\n"
   ]
  },
  {
   "cell_type": "code",
   "execution_count": 6,
   "id": "bd675e74",
   "metadata": {},
   "outputs": [
    {
     "data": {
      "image/png": "[encoded data removed]",
      "text/plain": [
       "<Figure size 1440x288 with 20 Axes>"
      ]
     },
     "metadata": {
      "needs_background": "light"
     },
     "output_type": "display_data"
    }
   ],
   "source": [
    "plt.figure(figsize=(20,4))\n",
    "for index, (image, label) in enumerate(zip(digits.data[0:20], digits.target[0:20])):\n",
    "    plt.subplot(1, 20, index + 1)\n",
    "    plt.imshow(np.reshape(image, (8,8)), cmap=plt.cm.gray)\n",
    "    plt.title(label, fontsize=20)"
   ]
  },
  {
   "cell_type": "code",
   "execution_count": 7,
   "id": "95369530",
   "metadata": {},
   "outputs": [],
   "source": [
    "# help(plt)"
   ]
  },
  {
   "cell_type": "code",
   "execution_count": 8,
   "id": "96812d47",
   "metadata": {},
   "outputs": [],
   "source": [
    "# split the data\n",
    "\n",
    "from sklearn.model_selection import train_test_split\n",
    "\n",
    "X_train, X_test, y_train, y_test = train_test_split(X, y, test_size=0.35)"
   ]
  },
  {
   "cell_type": "code",
   "execution_count": 9,
   "id": "252c354d",
   "metadata": {},
   "outputs": [
    {
     "name": "stdout",
     "output_type": "stream",
     "text": [
      "Train input data:  (1168, 64)\n",
      "Train input data:  (629, 64)\n",
      "Test input data:  (1168,)\n",
      "Test input data:  (629,)\n"
     ]
    }
   ],
   "source": [
    "print(\"Train input data: \", X_train.shape)\n",
    "print(\"Train input data: \", X_test.shape)\n",
    "print(\"Test input data: \", y_train.shape)\n",
    "print(\"Test input data: \", y_test.shape)"
   ]
  },
  {
   "cell_type": "code",
   "execution_count": 10,
   "id": "2451ea76",
   "metadata": {},
   "outputs": [
    {
     "name": "stderr",
     "output_type": "stream",
     "text": [
      "C:\\ProgramData\\Anaconda3\\lib\\site-packages\\sklearn\\linear_model\\_logistic.py:763: ConvergenceWarning: lbfgs failed to converge (status=1):\n",
      "STOP: TOTAL NO. of ITERATIONS REACHED LIMIT.\n",
      "\n",
      "Increase the number of iterations (max_iter) or scale the data as shown in:\n",
      "    https://scikit-learn.org/stable/modules/preprocessing.html\n",
      "Please also refer to the documentation for alternative solver options:\n",
      "    https://scikit-learn.org/stable/modules/linear_model.html#logistic-regression\n",
      "  n_iter_i = _check_optimize_result(\n"
     ]
    },
    {
     "data": {
      "text/plain": [
       "LogisticRegression()"
      ]
     },
     "execution_count": 10,
     "metadata": {},
     "output_type": "execute_result"
    }
   ],
   "source": [
    "# import train\n",
    "\n",
    "from sklearn.linear_model import LogisticRegression\n",
    "\n",
    "model = LogisticRegression().fit(X_train, y_train)\n",
    "\n",
    "model"
   ]
  },
  {
   "cell_type": "code",
   "execution_count": 11,
   "id": "90bede2b",
   "metadata": {},
   "outputs": [
    {
     "data": {
      "text/plain": [
       "array([4, 9, 5, 4, 6, 8, 8, 6, 8, 2, 5, 2, 8, 4, 7, 4, 4, 1, 1, 1, 0, 7,\n",
       "       7, 8, 1, 5, 7, 0, 8, 3, 3, 3, 2, 1, 1, 8, 2, 7, 4, 5, 9, 7, 6, 3,\n",
       "       4, 5, 2, 4, 1, 8, 2, 7, 2, 5, 3, 7, 1, 0, 1, 4, 2, 8, 9, 6, 8, 5,\n",
       "       2, 2, 8, 5, 8, 9, 6, 0, 3, 0, 4, 6, 4, 4, 3, 2, 1, 6, 6, 0, 7, 0,\n",
       "       0, 0, 8, 2, 2, 0, 2, 4, 6, 1, 7, 7, 9, 6, 1, 9, 8, 8, 7, 6, 0, 2,\n",
       "       9, 5, 1, 0, 7, 1, 9, 9, 9, 2, 5, 3, 1, 1, 5, 5, 0, 3, 1, 5, 7, 7,\n",
       "       9, 9, 2, 4, 5, 8, 5, 5, 7, 9, 1, 5, 4, 0, 1, 0, 0, 8, 5, 2, 1, 4,\n",
       "       9, 3, 5, 0, 2, 7, 3, 1, 2, 2, 6, 6, 6, 1, 0, 5, 6, 1, 1, 2, 3, 3,\n",
       "       2, 2, 8, 7, 5, 1, 9, 9, 0, 2, 7, 1, 7, 0, 5, 2, 0, 9, 0, 5, 6, 1,\n",
       "       4, 9, 2, 3, 5, 2, 6, 3, 1, 6, 9, 6, 7, 8, 8, 8, 5, 9, 9, 8, 0, 6,\n",
       "       8, 3, 9, 1, 4, 1, 0, 4, 7, 0, 6, 4, 8, 5, 3, 1, 5, 6, 9, 0, 2, 9,\n",
       "       8, 3, 2, 4, 7, 5, 0, 5, 1, 7, 5, 9, 1, 8, 6, 8, 0, 6, 3, 8, 2, 0,\n",
       "       1, 5, 0, 1, 5, 8, 2, 2, 7, 3, 3, 0, 4, 0, 4, 8, 7, 7, 0, 4, 1, 7,\n",
       "       2, 7, 6, 5, 7, 5, 1, 7, 7, 2, 1, 8, 8, 0, 0, 6, 1, 8, 5, 1, 5, 0,\n",
       "       6, 7, 3, 2, 2, 8, 4, 0, 0, 9, 8, 5, 1, 9, 6, 4, 7, 9, 7, 1, 2, 6,\n",
       "       5, 6, 1, 5, 6, 8, 2, 9, 1, 2, 6, 4, 2, 0, 9, 6, 5, 4, 4, 4, 4, 9,\n",
       "       2, 3, 6, 0, 5, 0, 1, 6, 2, 0, 5, 9, 1, 2, 0, 3, 3, 7, 9, 7, 9, 7,\n",
       "       3, 7, 7, 8, 9, 9, 6, 9, 1, 2, 7, 4, 5, 8, 0, 3, 5, 5, 9, 3, 1, 3,\n",
       "       6, 5, 8, 4, 9, 6, 7, 4, 5, 8, 3, 5, 1, 3, 2, 9, 9, 2, 6, 4, 4, 3,\n",
       "       3, 8, 9, 3, 0, 6, 8, 8, 1, 7, 0, 9, 2, 2, 8, 1, 4, 3, 9, 8, 0, 4,\n",
       "       7, 1, 5, 4, 9, 8, 9, 5, 7, 2, 6, 3, 2, 3, 3, 2, 4, 1, 1, 0, 8, 4,\n",
       "       0, 6, 3, 5, 3, 8, 2, 6, 4, 8, 2, 0, 4, 2, 5, 4, 2, 2, 0, 6, 8, 1,\n",
       "       3, 1, 4, 7, 4, 2, 5, 6, 5, 4, 2, 5, 6, 8, 6, 0, 1, 3, 7, 2, 9, 3,\n",
       "       2, 2, 7, 6, 1, 5, 4, 3, 4, 7, 2, 6, 8, 2, 2, 8, 7, 0, 0, 4, 0, 1,\n",
       "       5, 7, 8, 9, 6, 9, 0, 5, 1, 8, 5, 7, 6, 5, 7, 5, 4, 3, 7, 6, 6, 9,\n",
       "       4, 9, 9, 3, 1, 0, 4, 3, 0, 2, 4, 9, 2, 6, 4, 4, 2, 4, 6, 5, 6, 2,\n",
       "       7, 2, 9, 1, 0, 0, 0, 5, 4, 9, 8, 3, 6, 1, 0, 6, 9, 5, 7, 3, 5, 1,\n",
       "       1, 5, 7, 8, 6, 0, 2, 1, 5, 4, 0, 4, 3, 7, 7, 1, 7, 6, 0, 7, 0, 2,\n",
       "       0, 7, 9, 2, 2, 6, 0, 2, 8, 1, 0, 9, 1])"
      ]
     },
     "execution_count": 11,
     "metadata": {},
     "output_type": "execute_result"
    }
   ],
   "source": [
    "model.predict(X_test[0:10])\n",
    "prediction = model.predict(X_test)\n",
    "prediction"
   ]
  },
  {
   "cell_type": "code",
   "execution_count": 12,
   "id": "33ff5341",
   "metadata": {},
   "outputs": [
    {
     "name": "stdout",
     "output_type": "stream",
     "text": [
      "0.9618441971383148\n",
      "The Accuracy score is : 0.9618441971383148\n"
     ]
    }
   ],
   "source": [
    "# Accuracy Test\n",
    "\n",
    "from sklearn.metrics import accuracy_score\n",
    "\n",
    "predicted_values = model.predict(X_test)        \n",
    "score1 = accuracy_score(y_test, predicted_values)       # Method 1st\n",
    "print(score1)\n",
    "\n",
    "score2 = model.score(X_test, y_test)           # Method 2nd\n",
    "print(\"The Accuracy score is :\", score2)"
   ]
  },
  {
   "cell_type": "markdown",
   "id": "9f98f1f0",
   "metadata": {},
   "source": [
    "# confusion Matrix"
   ]
  },
  {
   "cell_type": "code",
   "execution_count": 13,
   "id": "44d14eaf",
   "metadata": {},
   "outputs": [
    {
     "data": {
      "text/plain": [
       "array([[69,  0,  0,  0,  0,  1,  0,  0,  0,  0],\n",
       "       [ 0, 65,  0,  0,  1,  0,  0,  0,  3,  1],\n",
       "       [ 0,  1, 74,  0,  0,  0,  0,  0,  1,  0],\n",
       "       [ 0,  0,  0, 50,  0,  1,  0,  0,  2,  0],\n",
       "       [ 0,  1,  0,  0, 57,  0,  0,  0,  0,  0],\n",
       "       [ 0,  1,  1,  0,  0, 63,  0,  1,  0,  1],\n",
       "       [ 0,  0,  0,  0,  0,  0, 61,  0,  0,  0],\n",
       "       [ 0,  0,  0,  0,  1,  1,  0, 61,  0,  2],\n",
       "       [ 0,  1,  0,  0,  1,  1,  0,  0, 52,  1],\n",
       "       [ 0,  0,  0,  0,  0,  0,  0,  0,  0, 53]], dtype=int64)"
      ]
     },
     "execution_count": 13,
     "metadata": {},
     "output_type": "execute_result"
    }
   ],
   "source": [
    "from sklearn import metrics\n",
    "\n",
    "cm = metrics.confusion_matrix(y_test, prediction)\n",
    "cm"
   ]
  },
  {
   "cell_type": "code",
   "execution_count": 14,
   "id": "eaa9be69",
   "metadata": {},
   "outputs": [
    {
     "data": {
      "text/plain": [
       "Text(0.5, 1.0, 'Accuracy Score: 0.9618441971383148')"
      ]
     },
     "execution_count": 14,
     "metadata": {},
     "output_type": "execute_result"
    },
    {
     "data": {
      "image/png": "[encoded data removed]",
      "text/plain": [
       "<Figure size 648x648 with 2 Axes>"
      ]
     },
     "metadata": {
      "needs_background": "light"
     },
     "output_type": "display_data"
    }
   ],
   "source": [
    "plt.figure(figsize=(9,9))\n",
    "sns.heatmap(cm, annot=True, fmt=\".3f\", linewidths=0.5, square=True, cmap='Spectral')\n",
    "plt.ylabel('Actual Output')\n",
    "plt.xlabel('Predicted Output')\n",
    "all_sample_title  = 'Accuracy Score: {0}'.format(score1)\n",
    "plt.title(all_sample_title, size = 15)"
   ]
  },
  {
   "cell_type": "code",
   "execution_count": 15,
   "id": "fcfe5ee1",
   "metadata": {},
   "outputs": [
    {
     "data": {
      "text/plain": [
       "[0,\n",
       " 1,\n",
       " 2,\n",
       " 3,\n",
       " 4,\n",
       " 5,\n",
       " 6,\n",
       " 7,\n",
       " 8,\n",
       " 9,\n",
       " 10,\n",
       " 11,\n",
       " 12,\n",
       " 13,\n",
       " 14,\n",
       " 15,\n",
       " 16,\n",
       " 17,\n",
       " 18,\n",
       " 19,\n",
       " 20,\n",
       " 21,\n",
       " 22,\n",
       " 23]"
      ]
     },
     "execution_count": 15,
     "metadata": {},
     "output_type": "execute_result"
    }
   ],
   "source": [
    "# Getting miss classsification labels\n",
    "\n",
    "import numpy as np\n",
    "import matplotlib.pyplot as plt\n",
    "index = 0\n",
    "misclassifiedIndexes = []\n",
    "for label, predict in zip(y_test, prediction):\n",
    "    if label != predict:\n",
    "        misclassifiedIndexes.append(index)\n",
    "        index += 1\n",
    "        \n",
    "misclassifiedIndexes"
   ]
  },
  {
   "cell_type": "code",
   "execution_count": 16,
   "id": "f530e49a",
   "metadata": {},
   "outputs": [
    {
     "data": {
      "image/png": "[encoded data removed]",
      "text/plain": [
       "<Figure size 1440x288 with 5 Axes>"
      ]
     },
     "metadata": {
      "needs_background": "light"
     },
     "output_type": "display_data"
    }
   ],
   "source": [
    "# plotting missclassified labels with known labels\n",
    "plt.figure(figsize=(20,4))\n",
    "for plotIndex, badIndex in enumerate(misclassifiedIndexes[5:10]):\n",
    "    plt.subplot(1, 5, plotIndex + 1)\n",
    "    plt.imshow(np.reshape(X_test[badIndex], (8,8)), cmap=plt.cm.gray)\n",
    "    plt.title(\"Predicted: {}, Actual: {}\".format(prediction[badIndex], y_test[badIndex]), fontsize=15)"
   ]
  },
  {
   "cell_type": "code",
   "execution_count": null,
   "id": "e4184696",
   "metadata": {},
   "outputs": [],
   "source": []
  }
 ],
 "metadata": {
  "kernelspec": {
   "display_name": "Python 3 (ipykernel)",
   "language": "python",
   "name": "python3"
  },
  "language_info": {
   "codemirror_mode": {
    "name": "ipython",
    "version": 3
   },
   "file_extension": ".py",
   "mimetype": "text/x-python",
   "name": "python",
   "nbconvert_exporter": "python",
   "pygments_lexer": "ipython3",
   "version": "3.9.7"
  }
 },
 "nbformat": 4,
 "nbformat_minor": 5
}
